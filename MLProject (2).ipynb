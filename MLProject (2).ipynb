{
  "nbformat": 4,
  "nbformat_minor": 0,
  "metadata": {
    "colab": {
      "provenance": []
    },
    "kernelspec": {
      "name": "python3",
      "display_name": "Python 3"
    },
    "language_info": {
      "name": "python"
    }
  },
  "cells": [
    {
      "cell_type": "code",
      "source": [
        "import pandas as pd\n",
        "\n",
        "\n",
        "df = pd.read_csv('climate_change_dataset.csv')\n",
        "\n",
        "\n",
        "df = df.groupby(['Year', 'Country'], as_index=False).agg({\n",
        "    'Avg Temperature (°C)': 'mean',\n",
        "    'CO2 Emissions (Tons/Capita)': 'mean',\n",
        "    'Sea Level Rise (mm)': 'mean',\n",
        "    'Rainfall (mm)': 'mean',\n",
        "    'Population': 'mean',\n",
        "    'Renewable Energy (%)': 'mean',\n",
        "    'Extreme Weather Events': 'mean',\n",
        "    'Forest Area (%)': 'mean',\n",
        "})\n",
        "\n",
        "df = df.sort_values(by=['Country', 'Year']).reset_index(drop=True)\n",
        "df['SMA_CO2'] = df.groupby('Country')['CO2 Emissions (Tons/Capita)'].transform('mean')\n",
        "\n",
        "\n",
        "latest_year = df['Year'].max()\n",
        "baseline_pred = df[df['Year'] == latest_year].groupby('Country')['SMA_CO2'].mean()\n",
        "\n",
        "actual_values = df[df['Year'] == latest_year].groupby('Country')['CO2 Emissions (Tons/Capita)'].mean()\n",
        "\n",
        "baseline_pred = baseline_pred.reset_index()\n",
        "actual_values = actual_values.reset_index()\n",
        "from sklearn.metrics import mean_squared_error, mean_absolute_error\n",
        "import numpy as np\n",
        "# Calculate RMSE\n",
        "rmse = np.sqrt(mean_squared_error(actual_values['CO2 Emissions (Tons/Capita)'], baseline_pred['SMA_CO2']))\n",
        "\n",
        "# Calculate MAE\n",
        "mae = mean_absolute_error(actual_values['CO2 Emissions (Tons/Capita)'], baseline_pred['SMA_CO2'])\n",
        "\n",
        "print(f\"RMSE: {rmse:.2f}\")\n",
        "print(f\"MAE: {mae:.2f}\")"
      ],
      "metadata": {
        "colab": {
          "base_uri": "https://localhost:8080/"
        },
        "id": "zsutz3thyXMW",
        "outputId": "d990fa9d-947a-4fd7-a8ea-55e03105873e"
      },
      "execution_count": null,
      "outputs": [
        {
          "output_type": "stream",
          "name": "stdout",
          "text": [
            "RMSE: 3.17\n",
            "MAE: 2.41\n"
          ]
        }
      ]
    },
    {
      "cell_type": "code",
      "source": [
        "import pandas as pd\n",
        "import numpy as np\n",
        "from sklearn.model_selection import train_test_split, GridSearchCV\n",
        "from sklearn.linear_model import LinearRegression\n",
        "from sklearn.ensemble import RandomForestRegressor, GradientBoostingRegressor, VotingRegressor\n",
        "from sklearn.metrics import mean_squared_error, mean_absolute_error, r2_score\n",
        "\n",
        "\n",
        "df = pd.read_csv('climate_change_dataset.csv')\n",
        "\n",
        "\n",
        "df_sorted = df.sort_values(['Country', 'Year'])\n",
        "\n",
        "\n",
        "df['SMA_CO2'] = df.groupby('Country')['CO2 Emissions (Tons/Capita)'].transform('mean')\n",
        "\n",
        "\n",
        "\n",
        "latest_year = df['Year'].max()\n",
        "baseline_pred = df[df['Year'] == latest_year].groupby('Country')['SMA_CO2'].mean()\n",
        "\n",
        "\n",
        "features = ['Avg Temperature (°C)', 'Sea Level Rise (mm)',  'Rainfall (mm)', 'Renewable Energy (%)', 'Extreme Weather Events','Forest Area (%)','Population']\n",
        "target = 'CO2 Emissions (Tons/Capita)'\n",
        "\n",
        "df = pd.get_dummies(df, columns=['Country'], drop_first=True)\n",
        "\n",
        "\n",
        "X = df[features + list(df.filter(regex='Country_'))]\n",
        "y = df[target]\n",
        "X_train, X_test, y_train, y_test = train_test_split(X, y, test_size=0.2, random_state=42)\n",
        "\n",
        "\n",
        "lr = LinearRegression()\n",
        "lr.fit(X_train, y_train)\n",
        "y_pred = lr.predict(X_test)\n",
        "\n",
        "\n",
        "print(f'MAE: {mean_absolute_error(y_test, y_pred):.2f}')\n",
        "print(f'RMSE: {np.sqrt(mean_squared_error(y_test, y_pred)):.2f}')\n",
        "\n",
        "\n"
      ],
      "metadata": {
        "id": "qHjjslYvykVm",
        "colab": {
          "base_uri": "https://localhost:8080/"
        },
        "outputId": "5f536ff7-8a1e-4019-b6d8-02ce79cc6577"
      },
      "execution_count": null,
      "outputs": [
        {
          "output_type": "stream",
          "name": "stdout",
          "text": [
            "MAE: 4.90\n",
            "RMSE: 5.68\n"
          ]
        }
      ]
    },
    {
      "cell_type": "code",
      "source": [
        "from sklearn.ensemble import RandomForestRegressor\n",
        "\n",
        "rf= RandomForestRegressor(n_estimators=200,random_state=42)\n",
        "rf.fit(X_train, y_train)\n",
        "y_pred_rf = rf.predict(X_test)\n",
        "\n",
        "print(f'MAE: {mean_absolute_error(y_test, y_pred_rf):.2f}')\n",
        "print(f'RMSE: {np.sqrt(mean_squared_error(y_test, y_pred_rf)):.2f}')\n",
        "print(f'R²: {r2_score(y_test, y_pred_rf):.2f}\\n')\n",
        "\n",
        "import pandas as pd\n",
        "import numpy as np\n",
        "\n",
        "\n",
        "importances = rf.feature_importances_\n",
        "\n",
        "feature_names = X_train.columns\n",
        "\n",
        "\n",
        "feat_importances = pd.DataFrame({\n",
        "    'Feature': feature_names,\n",
        "    'Importance': importances\n",
        "})\n",
        "\n",
        "\n",
        "feat_importances_sorted = feat_importances.sort_values(by='Importance', ascending=False)\n",
        "\n",
        "print(feat_importances_sorted)\n",
        "\n"
      ],
      "metadata": {
        "id": "YnoRrcL26DMM",
        "colab": {
          "base_uri": "https://localhost:8080/"
        },
        "outputId": "42c6f2f2-6258-4afc-bb4d-87fe7180d8f9"
      },
      "execution_count": null,
      "outputs": [
        {
          "output_type": "stream",
          "name": "stdout",
          "text": [
            "MAE: 5.03\n",
            "RMSE: 5.89\n",
            "R²: -0.06\n",
            "\n",
            "                   Feature  Importance\n",
            "0     Avg Temperature (°C)    0.141665\n",
            "6               Population    0.141468\n",
            "3     Renewable Energy (%)    0.136188\n",
            "2            Rainfall (mm)    0.132682\n",
            "5          Forest Area (%)    0.127663\n",
            "1      Sea Level Rise (mm)    0.112285\n",
            "4   Extreme Weather Events    0.083166\n",
            "17          Country_Russia    0.012530\n",
            "19              Country_UK    0.010972\n",
            "20             Country_USA    0.010829\n",
            "7        Country_Australia    0.010495\n",
            "18    Country_South Africa    0.010263\n",
            "12         Country_Germany    0.009462\n",
            "13           Country_India    0.008576\n",
            "10           Country_China    0.008235\n",
            "14       Country_Indonesia    0.008090\n",
            "11          Country_France    0.007670\n",
            "16          Country_Mexico    0.007589\n",
            "15           Country_Japan    0.007139\n",
            "8           Country_Brazil    0.006902\n",
            "9           Country_Canada    0.006130\n"
          ]
        }
      ]
    },
    {
      "cell_type": "code",
      "source": [
        "from sklearn.model_selection import GridSearchCV\n",
        "\n",
        "param_grid = {\n",
        "    'n_estimators': [100, 200, 300],\n",
        "    'max_depth': [None, 10, 20]\n",
        "}\n",
        "from sklearn.ensemble import RandomForestRegressor\n",
        "grid_search = GridSearchCV(RandomForestRegressor(random_state=42), param_grid, cv=3, scoring='neg_mean_squared_error')\n",
        "grid_search.fit(X_train, y_train)\n",
        "best_rf = grid_search.best_estimator_\n",
        "\n",
        "y_pred_tuned = best_rf.predict(X_test)\n",
        "print(f\"MAE: {mean_absolute_error(y_test, y_pred_tuned):.2f}\")\n",
        "print(f\"RMSE: {np.sqrt(mean_squared_error(y_test, y_pred_tuned)):.2f}\")\n",
        "print(f\"R²: {r2_score(y_test, y_pred_tuned):.2f}\\n\")\n",
        "\n",
        "import pandas as pd\n",
        "import numpy as np\n",
        "\n",
        "\n",
        "importances = rf.feature_importances_\n",
        "\n",
        "feature_names = X_train.columns\n",
        "\n",
        "\n",
        "feat_importances = pd.DataFrame({\n",
        "    'Feature': feature_names,\n",
        "    'Importance': importances\n",
        "})\n",
        "\n",
        "\n",
        "feat_importances_sorted = feat_importances.sort_values(by='Importance', ascending=False)\n",
        "\n",
        "print(feat_importances_sorted)\n"
      ],
      "metadata": {
        "id": "TKYcMGkwPbB7",
        "colab": {
          "base_uri": "https://localhost:8080/"
        },
        "outputId": "1d820854-210d-473d-db98-3161e9861738"
      },
      "execution_count": null,
      "outputs": [
        {
          "output_type": "stream",
          "name": "stdout",
          "text": [
            "MAE: 4.96\n",
            "RMSE: 5.78\n",
            "R²: -0.02\n",
            "\n",
            "                   Feature  Importance\n",
            "0     Avg Temperature (°C)    0.141665\n",
            "6               Population    0.141468\n",
            "3     Renewable Energy (%)    0.136188\n",
            "2            Rainfall (mm)    0.132682\n",
            "5          Forest Area (%)    0.127663\n",
            "1      Sea Level Rise (mm)    0.112285\n",
            "4   Extreme Weather Events    0.083166\n",
            "17          Country_Russia    0.012530\n",
            "19              Country_UK    0.010972\n",
            "20             Country_USA    0.010829\n",
            "7        Country_Australia    0.010495\n",
            "18    Country_South Africa    0.010263\n",
            "12         Country_Germany    0.009462\n",
            "13           Country_India    0.008576\n",
            "10           Country_China    0.008235\n",
            "14       Country_Indonesia    0.008090\n",
            "11          Country_France    0.007670\n",
            "16          Country_Mexico    0.007589\n",
            "15           Country_Japan    0.007139\n",
            "8           Country_Brazil    0.006902\n",
            "9           Country_Canada    0.006130\n"
          ]
        }
      ]
    },
    {
      "cell_type": "code",
      "source": [
        "from sklearn.ensemble import GradientBoostingRegressor\n",
        "\n",
        "\n",
        "gb = GradientBoostingRegressor(n_estimators=200, learning_rate=0.01, random_state=42)\n",
        "gb.fit(X_train, y_train)\n",
        "y_pred_gb = gb.predict(X_test)\n",
        "\n",
        "\n",
        "print(f'MAE: {mean_absolute_error(y_test, y_pred_gb):.2f}')\n",
        "print(f'RMSE: {np.sqrt(mean_squared_error(y_test, y_pred_gb)):.2f}')\n",
        "print(f'R²: {r2_score(y_test, y_pred_gb):.2f}\\n')\n",
        "\n",
        "import pandas as pd\n",
        "import numpy as np\n",
        "\n",
        "\n",
        "importances = rf.feature_importances_\n",
        "\n",
        "feature_names = X_train.columns\n",
        "\n",
        "\n",
        "feat_importances = pd.DataFrame({\n",
        "    'Feature': feature_names,\n",
        "    'Importance': importances\n",
        "})\n",
        "\n",
        "\n",
        "feat_importances_sorted = feat_importances.sort_values(by='Importance', ascending=False)\n",
        "\n",
        "print(feat_importances_sorted)\n",
        "\n"
      ],
      "metadata": {
        "id": "k1xE274KUbhi",
        "colab": {
          "base_uri": "https://localhost:8080/"
        },
        "outputId": "a118efcd-145a-4144-fdb8-9bc96e3acab2"
      },
      "execution_count": null,
      "outputs": [
        {
          "output_type": "stream",
          "name": "stdout",
          "text": [
            "MAE: 4.97\n",
            "RMSE: 5.76\n",
            "R²: -0.02\n",
            "\n",
            "                   Feature  Importance\n",
            "0     Avg Temperature (°C)    0.141665\n",
            "6               Population    0.141468\n",
            "3     Renewable Energy (%)    0.136188\n",
            "2            Rainfall (mm)    0.132682\n",
            "5          Forest Area (%)    0.127663\n",
            "1      Sea Level Rise (mm)    0.112285\n",
            "4   Extreme Weather Events    0.083166\n",
            "17          Country_Russia    0.012530\n",
            "19              Country_UK    0.010972\n",
            "20             Country_USA    0.010829\n",
            "7        Country_Australia    0.010495\n",
            "18    Country_South Africa    0.010263\n",
            "12         Country_Germany    0.009462\n",
            "13           Country_India    0.008576\n",
            "10           Country_China    0.008235\n",
            "14       Country_Indonesia    0.008090\n",
            "11          Country_France    0.007670\n",
            "16          Country_Mexico    0.007589\n",
            "15           Country_Japan    0.007139\n",
            "8           Country_Brazil    0.006902\n",
            "9           Country_Canada    0.006130\n"
          ]
        }
      ]
    },
    {
      "cell_type": "code",
      "source": [
        "param_grid_gb = {\n",
        "    'n_estimators': [100, 200, 300],\n",
        "    'learning_rate': [0.01, 0.1, 0.2],\n",
        "    'max_depth': [3, 5, 7],\n",
        "    'subsample': [0.8, 1.0]\n",
        "}\n",
        "\n",
        "gb_grid = GridSearchCV(\n",
        "    GradientBoostingRegressor(random_state=42),\n",
        "    param_grid_gb,\n",
        "    cv=5,\n",
        "    scoring='neg_mean_squared_error',\n",
        "    n_jobs=-1\n",
        ")\n",
        "gb_grid.fit(X_train, y_train)\n",
        "best_gb = gb_grid.best_estimator_\n",
        "\n",
        "y_pred_tuned = best_gb.predict(X_test)\n",
        "print(f\"Tuned MAE: {mean_absolute_error(y_test, y_pred_tuned):.2f}\")\n",
        "print(f\"Tuned RMSE: {np.sqrt(mean_squared_error(y_test, y_pred_tuned)):.2f}\")\n",
        "\n",
        "import pandas as pd\n",
        "import numpy as np\n",
        "\n",
        "\n",
        "importances = rf.feature_importances_\n",
        "\n",
        "feature_names = X_train.columns\n",
        "\n",
        "\n",
        "feat_importances = pd.DataFrame({\n",
        "    'Feature': feature_names,\n",
        "    'Importance': importances\n",
        "})\n",
        "\n",
        "\n",
        "feat_importances_sorted = feat_importances.sort_values(by='Importance', ascending=False)\n",
        "\n",
        "print(feat_importances_sorted)\n"
      ],
      "metadata": {
        "id": "8Z9rYCZ_WScp",
        "colab": {
          "base_uri": "https://localhost:8080/"
        },
        "outputId": "858ed452-75b9-4924-ce98-75d44d48edd7"
      },
      "execution_count": null,
      "outputs": [
        {
          "output_type": "stream",
          "name": "stdout",
          "text": [
            "Tuned MAE: 4.93\n",
            "Tuned RMSE: 5.70\n",
            "Tuned R²: 0.00\n",
            "\n",
            "                   Feature  Importance\n",
            "0     Avg Temperature (°C)    0.141665\n",
            "6               Population    0.141468\n",
            "3     Renewable Energy (%)    0.136188\n",
            "2            Rainfall (mm)    0.132682\n",
            "5          Forest Area (%)    0.127663\n",
            "1      Sea Level Rise (mm)    0.112285\n",
            "4   Extreme Weather Events    0.083166\n",
            "17          Country_Russia    0.012530\n",
            "19              Country_UK    0.010972\n",
            "20             Country_USA    0.010829\n",
            "7        Country_Australia    0.010495\n",
            "18    Country_South Africa    0.010263\n",
            "12         Country_Germany    0.009462\n",
            "13           Country_India    0.008576\n",
            "10           Country_China    0.008235\n",
            "14       Country_Indonesia    0.008090\n",
            "11          Country_France    0.007670\n",
            "16          Country_Mexico    0.007589\n",
            "15           Country_Japan    0.007139\n",
            "8           Country_Brazil    0.006902\n",
            "9           Country_Canada    0.006130\n"
          ]
        }
      ]
    },
    {
      "cell_type": "code",
      "source": [
        "from sklearn.ensemble import VotingRegressor\n",
        "from sklearn.linear_model import LinearRegression\n",
        "voting = VotingRegressor([\n",
        "    ('lr', LinearRegression()),\n",
        "    ('rf', RandomForestRegressor(random_state=42)),\n",
        "    ('gb', GradientBoostingRegressor(random_state=42))\n",
        "])\n",
        "voting.fit(X_train, y_train)\n",
        "y_pred_voting = voting.predict(X_test)\n",
        "\n",
        "print(f'MAE: {mean_absolute_error(y_test, y_pred_voting):.2f}')\n",
        "print(f'RMSE: {np.sqrt(mean_squared_error(y_test, y_pred_voting)):.2f}')\n",
        "\n",
        "import pandas as pd\n",
        "import numpy as np\n",
        "\n",
        "\n",
        "importances = rf.feature_importances_\n",
        "\n",
        "feature_names = X_train.columns\n",
        "\n",
        "\n",
        "feat_importances = pd.DataFrame({\n",
        "    'Feature': feature_names,\n",
        "    'Importance': importances\n",
        "})\n",
        "\n",
        "\n",
        "feat_importances_sorted = feat_importances.sort_values(by='Importance', ascending=False)\n",
        "\n",
        "print(feat_importances_sorted)\n",
        "\n"
      ],
      "metadata": {
        "id": "Joy_qzT8Y74K",
        "colab": {
          "base_uri": "https://localhost:8080/"
        },
        "outputId": "607b3837-231a-4883-e6dc-d38a2cb11353"
      },
      "execution_count": null,
      "outputs": [
        {
          "output_type": "stream",
          "name": "stdout",
          "text": [
            "MAE: 4.97\n",
            "RMSE: 5.79\n",
            "R²: -0.03\n",
            "\n",
            "                   Feature  Importance\n",
            "0     Avg Temperature (°C)    0.141665\n",
            "6               Population    0.141468\n",
            "3     Renewable Energy (%)    0.136188\n",
            "2            Rainfall (mm)    0.132682\n",
            "5          Forest Area (%)    0.127663\n",
            "1      Sea Level Rise (mm)    0.112285\n",
            "4   Extreme Weather Events    0.083166\n",
            "17          Country_Russia    0.012530\n",
            "19              Country_UK    0.010972\n",
            "20             Country_USA    0.010829\n",
            "7        Country_Australia    0.010495\n",
            "18    Country_South Africa    0.010263\n",
            "12         Country_Germany    0.009462\n",
            "13           Country_India    0.008576\n",
            "10           Country_China    0.008235\n",
            "14       Country_Indonesia    0.008090\n",
            "11          Country_France    0.007670\n",
            "16          Country_Mexico    0.007589\n",
            "15           Country_Japan    0.007139\n",
            "8           Country_Brazil    0.006902\n",
            "9           Country_Canada    0.006130\n"
          ]
        }
      ]
    }
  ]
}